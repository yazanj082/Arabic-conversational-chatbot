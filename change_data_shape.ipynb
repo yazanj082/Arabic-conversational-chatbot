{
 "cells": [
  {
   "cell_type": "code",
   "execution_count": 23,
   "metadata": {},
   "outputs": [],
   "source": [
    "import pandas as pd\n",
    "import json"
   ]
  },
  {
   "cell_type": "code",
   "execution_count": 18,
   "metadata": {},
   "outputs": [],
   "source": [
    "df = pd.read_csv(\"./expo_chats.csv\",encoding=\"utf-8\")"
   ]
  },
  {
   "cell_type": "code",
   "execution_count": 19,
   "metadata": {},
   "outputs": [
    {
     "name": "stdout",
     "output_type": "stream",
     "text": [
      "<bound method NDFrame.head of            sender_name   timestamp_ms   \n",
      "0            Expo Shop  1591635497731  \\\n",
      "1            Expo Shop  1591635498753   \n",
      "2     Ayman K Abdallah  1591635499161   \n",
      "3            Expo Shop  1591635499761   \n",
      "4     Ayman K Abdallah  1591635501168   \n",
      "...                ...            ...   \n",
      "1746         Expo Shop  1596560467595   \n",
      "1747         Expo Shop  1595750297089   \n",
      "1748         Expo Shop  1597512378235   \n",
      "1749         Expo Shop  1595276814403   \n",
      "1750         Expo Shop  1602259545256   \n",
      "\n",
      "                                            sticker.uri   \n",
      "0                                                   NaN  \\\n",
      "1                                                   NaN   \n",
      "2                                                   NaN   \n",
      "3                                                   NaN   \n",
      "4                                                   NaN   \n",
      "...                                                 ...   \n",
      "1746                                                NaN   \n",
      "1747                                                NaN   \n",
      "1748                                                NaN   \n",
      "1749                                                NaN   \n",
      "1750  messages/stickers_used/39178562_15051976162936...   \n",
      "\n",
      "                                                content share.link   \n",
      "0        تم الرد على إعلان بواسطة ‏‎Ayman K Abdallah‎‏.        NaN  \\\n",
      "1                     مرحبا ايمن \\nعن أي منتج استفسارك؟        NaN   \n",
      "2                                          السلام عليكم        NaN   \n",
      "3     مرحبا ايمن عبدالله  \\nشكرا لتواصلك معنا!\\nنحن ...        NaN   \n",
      "4                                         ماكنه الحلاقه        NaN   \n",
      "...                                                 ...        ...   \n",
      "1746  التوصيل مجاني داخل الضفة الغربية و القدس لجميع...        NaN   \n",
      "1747                                  شكرا لتسوقكم معنا        NaN   \n",
      "1748  نعم .. جميع المنتجات المعروضة مكفولة لمدة سنة ...        NaN   \n",
      "1749  التوصيل مجاني داخل الضفة الغربية و القدس لجميع...        NaN   \n",
      "1750                                                NaN        NaN   \n",
      "\n",
      "     share.share_text photos  call_duration reactions audio_files gifs  \n",
      "0                 NaN    NaN            NaN       NaN         NaN  NaN  \n",
      "1                 NaN    NaN            NaN       NaN         NaN  NaN  \n",
      "2                 NaN    NaN            NaN       NaN         NaN  NaN  \n",
      "3                 NaN    NaN            NaN       NaN         NaN  NaN  \n",
      "4                 NaN    NaN            NaN       NaN         NaN  NaN  \n",
      "...               ...    ...            ...       ...         ...  ...  \n",
      "1746              NaN    NaN            NaN       NaN         NaN  NaN  \n",
      "1747              NaN    NaN            NaN       NaN         NaN  NaN  \n",
      "1748              NaN    NaN            NaN       NaN         NaN  NaN  \n",
      "1749              NaN    NaN            NaN       NaN         NaN  NaN  \n",
      "1750              NaN    NaN            NaN       NaN         NaN  NaN  \n",
      "\n",
      "[1751 rows x 11 columns]>\n",
      "Index(['sender_name', 'timestamp_ms', 'sticker.uri', 'content', 'share.link',\n",
      "       'share.share_text', 'photos', 'call_duration', 'reactions',\n",
      "       'audio_files', 'gifs'],\n",
      "      dtype='object')\n"
     ]
    }
   ],
   "source": [
    "print(df.head)\n",
    "print(df.columns)"
   ]
  },
  {
   "cell_type": "code",
   "execution_count": 20,
   "metadata": {},
   "outputs": [
    {
     "name": "stdout",
     "output_type": "stream",
     "text": [
      "Index(['sender_name', 'timestamp_ms', 'content'], dtype='object')\n"
     ]
    }
   ],
   "source": [
    "df = df.drop('sticker.uri', axis=1)\n",
    "df = df.iloc[:, :3]\n",
    "print(df.columns)"
   ]
  },
  {
   "cell_type": "code",
   "execution_count": 21,
   "metadata": {},
   "outputs": [
    {
     "name": "stdout",
     "output_type": "stream",
     "text": [
      "True\n",
      "False\n"
     ]
    }
   ],
   "source": [
    "print(df['content'].isna().any())\n",
    "df['content'].fillna('<emoji>', inplace=True)\n",
    "print(df['content'].isna().any())"
   ]
  },
  {
   "cell_type": "code",
   "execution_count": 22,
   "metadata": {},
   "outputs": [
    {
     "name": "stdout",
     "output_type": "stream",
     "text": [
      "<bound method NDFrame.head of              sender_name   timestamp_ms   \n",
      "466            Expo Shop  1582973415003  \\\n",
      "489            Expo Shop  1582973415877   \n",
      "522            عنان مراد  1582973416097   \n",
      "556            Expo Shop  1582973416589   \n",
      "609            عنان مراد  1582973432081   \n",
      "...                  ...            ...   \n",
      "1464        Nuhad Joudeh  1673358658138   \n",
      "1622           Expo Shop  1673358658989   \n",
      "1316  Mohannad Abed Rabu  1681173954698   \n",
      "1466           Expo Shop  1681173956142   \n",
      "1587  Mohannad Abed Rabu  1681173961791   \n",
      "\n",
      "                                                content  \n",
      "466               تم الرد على إعلان بواسطة ‏عنان مراد‏.  \n",
      "489                       مرحبا عنان\\nكيف بنقدر نساعدك؟  \n",
      "522                        هل المنتجات المعروضة مكفولة؟  \n",
      "556   جميع المنتجات المعروضة لدينا مكفولة لمدة سنة ك...  \n",
      "609                                                   👍  \n",
      "...                                                 ...  \n",
      "1464                    تم إرسال مرفق بواسطة ‏‎Nuhad‎‏.  \n",
      "1622  مرحبا Nuhad Joudeh  \\nشكرا لتواصلك معنا!\\nنحن ...  \n",
      "1316                                              مرحبا  \n",
      "1466  مرحبا Mohannad Abed Rabu  \\nشكرا لتواصلك معنا!...  \n",
      "1587                                  بلاقي عندك دربيل؟  \n",
      "\n",
      "[1751 rows x 3 columns]>\n"
     ]
    }
   ],
   "source": [
    "df = df.sort_values('timestamp_ms')\n",
    "print(df.head)"
   ]
  },
  {
   "cell_type": "code",
   "execution_count": 77,
   "metadata": {},
   "outputs": [],
   "source": [
    "def extract_name(sentence):\n",
    "    prefix = \"بواسطة ‏\"\n",
    "    suffix = \"‏.\"\n",
    "\n",
    "    start_index = sentence.find(prefix) + len(prefix)\n",
    "    end_index = sentence.find(suffix)\n",
    "\n",
    "    if start_index != -1 and end_index != -1:\n",
    "        return sentence[start_index:end_index]\n",
    "    else:\n",
    "        return None\n",
    "\n",
    "def clean_content(msg,usr):\n",
    "    if \"تم الرد على إعلان\" in msg:\n",
    "        usr = extract_name(msg)\n",
    "        msg = \"مرحبا, عندي استفسار عن هذا المنتج <product>\" \n",
    "    if \"Please let us know how we can help you.\" in msg or \"نحن الآن خارج وقت العمل الرسمي و سيتم الرد عليكم في أقرب وقت ممكن\" in msg:\n",
    "        msg = \"\"\n",
    "    return msg,usr\n",
    "def save_json(data,path,shop_name):\n",
    "    # Convert dictionary to JSON\n",
    "    output = []\n",
    "    for chat in data:\n",
    "        if len(data[chat]) == 0:\n",
    "            continue\n",
    "        tmp ={\n",
    "            \"dialog_id\": chat,\n",
    "             \"dialog\": []\n",
    "             }\n",
    "        count = 0\n",
    "        for dialog in data[chat]:\n",
    "            \n",
    "            key, value = list(dialog.items())[0]\n",
    "            if key == shop_name:\n",
    "                key = \"participant1\"\n",
    "            else:\n",
    "                key = \"participant2\"\n",
    "\n",
    "            tmp[\"dialog\"].append({\n",
    "                \"id\": count,\n",
    "                \"sender\": key,\n",
    "                \"text\": value\n",
    "            }),\n",
    "\n",
    "            \n",
    "            count +=1\n",
    "        output.append(tmp)\n",
    "\n",
    "    json_object = json.dumps(output, ensure_ascii=False, indent=4)\n",
    "\n",
    "    # Save JSON data to a file\n",
    "    with open(path, \"w\",encoding=\"utf-8\") as json_file:\n",
    "        json_file.write(json_object)\n",
    "\n",
    "    print(\"JSON data saved to data.json\")"
   ]
  },
  {
   "cell_type": "code",
   "execution_count": 75,
   "metadata": {},
   "outputs": [],
   "source": [
    "cache = dict()\n",
    "dialogs = dict()\n",
    "active_dialog = \"\"\n",
    "shop_name = \"Expo Shop\"\n",
    "for index, row in df.iterrows():\n",
    "    content,usr = clean_content(row[2],row[0])\n",
    "    if content == \"\":\n",
    "        continue\n",
    "    if usr != shop_name and usr not in dialogs:\n",
    "        dialogs[usr] = []\n",
    "        if active_dialog ==\"\":\n",
    "            active_dialog = usr\n",
    "    elif usr != active_dialog and usr != shop_name and shop_name in cache:\n",
    "        tmp={shop_name:cache[shop_name]}\n",
    "        dialogs[active_dialog].append(tmp)\n",
    "        cache.pop(shop_name)\n",
    "        active_dialog = usr\n",
    "    elif usr != active_dialog and usr != shop_name and shop_name not in cache:\n",
    "        tmp={active_dialog:cache[active_dialog]}\n",
    "        dialogs[active_dialog].append(tmp)\n",
    "        cache.pop(active_dialog)\n",
    "        active_dialog = usr\n",
    "    elif usr == shop_name and active_dialog in cache:\n",
    "        tmp={active_dialog:cache[active_dialog]}\n",
    "        dialogs[active_dialog].append(tmp)\n",
    "        cache.pop(active_dialog)\n",
    "    elif usr != shop_name and active_dialog == usr and shop_name in cache:\n",
    "        tmp={shop_name:cache[shop_name]}\n",
    "        dialogs[active_dialog].append(tmp)\n",
    "        cache.pop(shop_name)\n",
    "    if usr in cache:\n",
    "        if content not in cache[usr]:\n",
    "            cache[usr]+=\",\"+content\n",
    "    if usr not in cache:\n",
    "        cache[usr] = content\n",
    "    "
   ]
  },
  {
   "cell_type": "code",
   "execution_count": 78,
   "metadata": {},
   "outputs": [
    {
     "name": "stdout",
     "output_type": "stream",
     "text": [
      "JSON data saved to data.json\n"
     ]
    }
   ],
   "source": [
    "save_json(dialogs,\"./arabic_conversation.json\",shop_name)"
   ]
  },
  {
   "cell_type": "code",
   "execution_count": 72,
   "metadata": {},
   "outputs": [
    {
     "name": "stdout",
     "output_type": "stream",
     "text": [
      "[{'عنان مراد': 'مرحبا, عندي استفسار'}, {'Expo Shop': 'مرحبا عنان\\nكيف بنقدر نساعدك؟'}, {'عنان مراد': 'هل المنتجات المعروضة مكفولة؟'}, {'Expo Shop': 'جميع المنتجات المعروضة لدينا مكفولة لمدة سنة كاملة ( لا تشمل سوء الاستخدام و الكسر)'}, {'عنان مراد': '👍'}, {'Expo Shop': '<emoji>'}, {'عنان مراد': 'كم تبلغ مدة التوصيل؟,كم تبلغ مدة التوصيل؟,كم تبلغ مدة التوصيل؟'}, {'Expo Shop': 'مدة التوصيل من 3 - 5 ايام عمل,مرحبا Sameer\\nكيف بنقدر نساعدك؟,شكرا لتواصلك معنا,بنعتذر نفذت الكمية,التوصيل مجاني داخل الضفة الغربية و القدس لجميع الطلبات باستثناء الملابس.,جميع المنتجات المعروضة مكفولة لمدة سنة كاملة لا تشمل سوء الاستخدام'}]\n"
     ]
    }
   ],
   "source": [
    "print(dialogs[\"عنان مراد\"])"
   ]
  },
  {
   "cell_type": "code",
   "execution_count": null,
   "metadata": {},
   "outputs": [],
   "source": []
  }
 ],
 "metadata": {
  "kernelspec": {
   "display_name": "Python 3",
   "language": "python",
   "name": "python3"
  },
  "language_info": {
   "codemirror_mode": {
    "name": "ipython",
    "version": 3
   },
   "file_extension": ".py",
   "mimetype": "text/x-python",
   "name": "python",
   "nbconvert_exporter": "python",
   "pygments_lexer": "ipython3",
   "version": "3.9.0"
  },
  "orig_nbformat": 4
 },
 "nbformat": 4,
 "nbformat_minor": 2
}
