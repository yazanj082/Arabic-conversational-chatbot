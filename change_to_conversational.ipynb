{
 "cells": [
  {
   "cell_type": "code",
   "execution_count": 1,
   "metadata": {},
   "outputs": [],
   "source": [
    "import json"
   ]
  },
  {
   "cell_type": "code",
   "execution_count": 5,
   "metadata": {},
   "outputs": [],
   "source": [
    "def convert_data(data):\n",
    "    new_data = []\n",
    "    for dialog in data:\n",
    "        prevQ = \"\"\n",
    "        prevA = \"\"\n",
    "        new_dialog = []\n",
    "        for entry in dialog['dialog']:\n",
    "            if entry['sender'] == 'participant2':\n",
    "                new_text = \"<prevQ>\" + prevQ + \"<prevA>\" + prevA + \"<Q>\" + entry['text']\n",
    "                prevQ = entry['text']\n",
    "                new_dialog.append({'id': entry['id'], 'sender': entry['sender'], 'text': new_text})\n",
    "            else:\n",
    "                prevA = entry['text']\n",
    "                new_dialog.append(entry)\n",
    "        new_data.append({'dialog_id': dialog['dialog_id'], 'dialog': new_dialog})\n",
    "    return new_data\n"
   ]
  },
  {
   "cell_type": "code",
   "execution_count": 6,
   "metadata": {},
   "outputs": [],
   "source": [
    "# Read data from JSON file\n",
    "with open('arabic_conversation.json', 'r', encoding='utf-8') as f:\n",
    "    data = json.load(f)\n",
    "\n",
    "new_data = convert_data(data)\n",
    "\n",
    "# To save the new_data back to a JSON file\n",
    "with open('new_data.json', 'w', encoding='utf-8') as f:\n",
    "    json.dump(new_data, f, ensure_ascii=False)"
   ]
  }
 ],
 "metadata": {
  "kernelspec": {
   "display_name": "Python 3",
   "language": "python",
   "name": "python3"
  },
  "language_info": {
   "codemirror_mode": {
    "name": "ipython",
    "version": 3
   },
   "file_extension": ".py",
   "mimetype": "text/x-python",
   "name": "python",
   "nbconvert_exporter": "python",
   "pygments_lexer": "ipython3",
   "version": "3.11.3"
  },
  "orig_nbformat": 4
 },
 "nbformat": 4,
 "nbformat_minor": 2
}
